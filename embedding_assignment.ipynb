# 📦 Step 1: Install necessary libraries
!pip install numpy pymupdf fpdf

# 📄 Step 2: Generate a 2-page sample PDF file
from fpdf import FPDF

pdf = FPDF()
pdf.set_auto_page_break(auto=True, margin=15)

# Page 1
pdf.add_page()
pdf.set_font("Arial", size=12)
for i in range(30):
    pdf.cell(200, 10, txt=f"This is a sample sentence number {i+1} on page 1.", ln=True)

# Page 2
pdf.add_page()
for i in range(30):
    pdf.cell(200, 10, txt=f"This is a sample sentence number {i+1} on page 2.", ln=True)

pdf_path = "sample_text.pdf"
pdf.output(pdf_path)
print(f"PDF saved as {pdf_path}")


# 📘 Step 3: Extract text and generate embeddings
import fitz  # pymupdf
import numpy as np
import os

# Define embedding file names
dim_files = {
    8: 'embeddings_8d.txt',
    16: 'embeddings_16d.txt',
    32: 'embeddings_32d.txt'
}

# Utility functions
def generate_embedding(word, dim):
    np.random.seed(abs(hash(word)) % (2**32))
    return np.random.rand(dim)

def save_embedding(file_path, word, embedding):
    with open(file_path, 'a') as f:
        f.write(word + ' ' + ' '.join(map(str, embedding)) + '\n')

def load_embeddings(file_path):
    if not os.path.exists(file_path):
        return {}
    embeddings = {}
    with open(file_path, 'r') as f:
        for line in f:
            parts = line.strip().split()
            word = parts[0]
            vector = np.array(list(map(float, parts[1:])))
            embeddings[word] = vector
    return embeddings

def get_or_generate_embedding(word, dim, file_path):
    embeddings = load_embeddings(file_path)
    if word in embeddings:
        return embeddings[word], False
    else:
        new_embedding = generate_embedding(word, dim)
        save_embedding(file_path, word, new_embedding)
        return new_embedding, True

# Read PDF and tokenize text
doc = fitz.open(pdf_path)
text = ""
for page in doc:
    text += page.get_text()

words = set(text.lower().split())

# Create initial embeddings
for word in words:
    if not word.isalpha():
        continue
    for dim, filename in dim_files.items():
        embedding = generate_embedding(word, dim)
        save_embedding(filename, word, embedding)

print("✅ Embeddings created and saved.")


#Step 4: Take user input and search in embeddings
input_word = input("Enter a word to search or embed: ").lower()

for dim, filename in dim_files.items():
    embedding, is_new = get_or_generate_embedding(input_word, dim, filename)
    if is_new:
        print(f"[{dim}D] '{input_word}' not found, new embedding created.")
    else:
        print(f"[{dim}D] '{input_word}' found in file.")
